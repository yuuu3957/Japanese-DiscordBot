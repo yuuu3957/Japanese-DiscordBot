{
 "cells": [
  {
   "cell_type": "code",
   "execution_count": 12,
   "id": "456f4b6e",
   "metadata": {},
   "outputs": [],
   "source": [
    "import requests\n",
    "from bs4 import BeautifulSoup\n",
    "\n",
    "def get_entry_links(word):\n",
    "    url = f\"https://dictionary.goo.ne.jp/srch/all/{word}/m0u/\"\n",
    "    base_url = \"https://dictionary.goo.ne.jp\"\n",
    "    headers = {\"User-Agent\": \"Mozilla/5.0\"}\n",
    "    res = requests.get(url, headers=headers)\n",
    "    if res.status_code != 200:\n",
    "        return []\n",
    "\n",
    "    soup = BeautifulSoup(res.text, \"html.parser\")\n",
    "    ul = soup.find('ul', class_='content_list idiom lsize')\n",
    "    if not ul:\n",
    "        return []\n",
    "    \n",
    "    links = []\n",
    "\n",
    "    for li in ul.find_all('li'):\n",
    "        a = li.find('a')\n",
    "        if a and a.has_attr('href'):\n",
    "            links.append(base_url+a['href'])\n",
    "    return links\n",
    "\n",
    "def crawl_entry_details(link):\n",
    "    headers = {\"User-Agent\": \"Mozilla/5.0\"}\n",
    "    \n",
    "\n",
    "    res = requests.get(link, headers=headers)\n",
    "    if res.status_code != 200:\n",
    "        return []\n",
    "\n",
    "    soup = BeautifulSoup(res.text, \"html.parser\")\n",
    "    title = soup.find('div', class_='basic_title').find('h1')\n",
    "    cut = title.find('span',class_='meaning')\n",
    "    title_name = title.get_text(strip=True)\n",
    "    title_name = title_name.replace(cut.get_text(strip=True),\"\")\n",
    "        \n",
    "    definition = soup.find('div',class_='contents')\n",
    "    definition_name = definition.get_text(strip=True)\n",
    "\n",
    "    \n",
    "    return {\n",
    "        'title' : title_name,\n",
    "        'definition' : definition_name\n",
    "    }\n",
    "    \n",
    "\n",
    "def crawl_word_full(word,max_entries):\n",
    "    links = get_entry_links(word)\n",
    "    results= []\n",
    "    for link in links:\n",
    "        if max_entries<=0:\n",
    "            break\n",
    "        detail = crawl_entry_details(link)\n",
    "        if detail:\n",
    "            results.append({\n",
    "                'url': link,\n",
    "                'title' : detail['title'],\n",
    "                'definition' : detail['definition']\n",
    "            })\n",
    "        max_entries-=1\n",
    "    print(results)"
   ]
  },
  {
   "cell_type": "code",
   "execution_count": 13,
   "id": "e6c682c1",
   "metadata": {},
   "outputs": [
    {
     "name": "stdout",
     "output_type": "stream",
     "text": [
      "[{'url': 'https://dictionary.goo.ne.jp/word/%E7%BE%8E%E5%91%B3%E3%81%97%E3%81%84/#jn-27157', 'title': '美味しい（おいしい）', 'definition': '［形］《味がよい意の女房詞「いしい」に接頭語「お」の付いたもの》１食べ物の味がよい。美味だ。「うまい」に比べて丁寧・上品な感じが強い。「魚の—・い店」「山の空気が—・い」２自分にとって都合がよい。具合いがよい。好ましい。「そんな—・い話が、あるはずがない」→旨\\u2009(うま)\\u2009い［用法］[派生]おいしがる［動ラ五］おいしげ［形動］おいしさ［名］'}, {'url': 'https://dictionary.goo.ne.jp/word/%E3%81%8A%E3%81%84%E3%81%97%E3%81%84%E3%82%B3%E3%83%BC%E3%83%92%E3%83%BC%E3%81%AE%E3%81%84%E3%82%8C%E6%96%B9/#jn-288602', 'title': 'おいしいコーヒーのいれ方（おいしいコーヒーのいれかた）', 'definition': '村山由佳によるライトノベルのシリーズ名。シリーズ開始時に男子高校生だった勝利を主人公に、年上の従姉妹\\u2009(いとこ)\\u2009とのもどかしい恋を描く。第1作「キスまでの距離」は平成6年（1994）刊行。シリーズ作品は15作を超える。'}, {'url': 'https://dictionary.goo.ne.jp/word/%E3%81%8A%E3%81%84%E3%81%97%E3%81%84%E3%81%94%E3%81%AF%E3%82%93%E3%81%8C%E9%A3%9F%E3%81%B9%E3%82%89%E3%82%8C%E3%81%BE%E3%81%99%E3%82%88%E3%81%86%E3%81%AB/#jn-306173', 'title': 'おいしいごはんが食べられますように（おいしいごはんがたべられますように）', 'definition': '高瀬隼子\\u2009(じゅんこ)の小説。令和3年（2021）発表。ある職場の人間関係を、「食」を通して描く。第167回芥川賞受賞。'}, {'url': 'https://dictionary.goo.ne.jp/word/%E3%81%8A%E3%81%84%E3%81%97%E3%81%84%E5%BA%84%E5%86%85%E7%A9%BA%E6%B8%AF/#jn-276888', 'title': 'おいしい庄内空港（おいしいしょうないくうこう）', 'definition': '庄内空港の愛称。「おいしい【美味しい】」の全ての意味を見る'}, {'url': 'https://dictionary.goo.ne.jp/word/%E3%81%8A%E3%81%84%E3%81%97%E3%81%84%E5%B1%B1%E5%BD%A2%E7%A9%BA%E6%B8%AF/#jn-276889', 'title': 'おいしい山形空港（おいしいやまがたくうこう）', 'definition': '山形空港の愛称。「おいしい【美味しい】」の全ての意味を見る'}]\n"
     ]
    }
   ],
   "source": [
    "crawl_word_full(\"おいしい\",5)"
   ]
  },
  {
   "cell_type": "markdown",
   "id": "ab4017ea",
   "metadata": {},
   "source": []
  }
 ],
 "metadata": {
  "kernelspec": {
   "display_name": "base",
   "language": "python",
   "name": "python3"
  },
  "language_info": {
   "codemirror_mode": {
    "name": "ipython",
    "version": 3
   },
   "file_extension": ".py",
   "mimetype": "text/x-python",
   "name": "python",
   "nbconvert_exporter": "python",
   "pygments_lexer": "ipython3",
   "version": "3.11.4"
  }
 },
 "nbformat": 4,
 "nbformat_minor": 5
}
