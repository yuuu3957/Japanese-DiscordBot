{
 "cells": [
  {
   "cell_type": "code",
   "execution_count": 1,
   "id": "156ff539",
   "metadata": {},
   "outputs": [
    {
     "name": "stdout",
     "output_type": "stream",
     "text": [
      "解釋：\n",
      "「私」是一個日文單字，指的是「自己」、「我」或「私人」等意思，根據使用情境不同，可以有不同的解釋。\n",
      "\n",
      "拼音：わたし\n",
      "\n",
      "例句1️⃣：\n",
      "    日文句子：私は学生です。\n",
      "    日文拼音：わたしはがくせいです。\n",
      "中文翻譯1️⃣：\n",
      "    我是學生。\n",
      "\n",
      "例句2️⃣：\n",
      "    日文句子：私の名前は田中です。\n",
      "    日文拼音：わたしのなまえはたなかです。\n",
      "中文翻譯2️⃣：\n",
      "    我的名字是田中。\n",
      "{'chinese': '「私」是一個日文單字，指的是「自己」、「我」或「私人」等意思，根據使用情境不同，可以有不同的解釋。', 'reading': 'わたし', 'examples': [{'jp_sentence': '私は学生です。', 'jp_reading': 'わたしはがくせいです。', 'chinese_translation': '我是學生。'}, {'jp_sentence': '私の名前は田中です。', 'jp_reading': 'わたしのなまえはたなかです。', 'chinese_translation': '我的名字是田中。'}]}\n",
      "{'chinese': '「私」是一個日文單字，指的是「自己」、「我」或「私人」等意思，根據使用情境不同，可以有不同的解釋。', 'reading': 'わたし', 'examples': [{'jp_sentence': '私は学生です。', 'jp_reading': 'わたしはがくせいです。', 'chinese_translation': '我是學生。'}, {'jp_sentence': '私の名前は田中です。', 'jp_reading': 'わたしのなまえはたなかです。', 'chinese_translation': '我的名字是田中。'}]}\n"
     ]
    }
   ],
   "source": [
    "from groq_help import generate_japanese_addnote, start_groq, generate_japanese_lookup\n",
    "\n",
    "model, client = start_groq()\n",
    "\n",
    "s = generate_japanese_lookup(\"私\", model, client)\n",
    "print(s)\n",
    "word_data = generate_japanese_addnote(s, model, client)\n",
    "print(word_data)"
   ]
  }
 ],
 "metadata": {
  "kernelspec": {
   "display_name": "base",
   "language": "python",
   "name": "python3"
  },
  "language_info": {
   "codemirror_mode": {
    "name": "ipython",
    "version": 3
   },
   "file_extension": ".py",
   "mimetype": "text/x-python",
   "name": "python",
   "nbconvert_exporter": "python",
   "pygments_lexer": "ipython3",
   "version": "3.11.4"
  }
 },
 "nbformat": 4,
 "nbformat_minor": 5
}
