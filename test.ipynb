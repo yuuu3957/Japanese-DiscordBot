{
 "cells": [
  {
   "cell_type": "code",
   "execution_count": 1,
   "id": "156ff539",
   "metadata": {},
   "outputs": [
    {
     "name": "stdout",
     "output_type": "stream",
     "text": [
      "日文單字:海老で鯛を釣る\n",
      "解釋：\n",
      "這個短語指的是用小的東西或代價換取更大的東西或利益，通常用來描述用小的犧牲或付出換取更大的收穫或成果。\n",
      "拼音：えびでたいをつる\n",
      "例句1️⃣：\n",
      "    日文句子：彼は海老で鯛を釣る戦略で事業を成功させた。\n",
      "    日文拼音：かれはえびでたいをつるせんりゃくでじぎょうをせいこうさせた\n",
      "中文翻譯1️⃣：\n",
      "    他用小的代價換取更大的利益，成功地把事業做大了。\n",
      "例句2️⃣：\n",
      "    日文句子：海老で鯛を釣るという考え方は、經營者們非常喜歡。\n",
      "    日文拼音：えびでたいをつるというかんがた方は、けいえいしゃたちにとてもきらい\n",
      "中文翻譯2️⃣：\n",
      "    用小的東西換取更大的東西的想法，經營者們非常喜歡。\n",
      "{'japanese': '海老で鯛を釣る', 'chinese': '用小的東西或代價換取更大的東西或利益，通常用來描述用小的犧牲或付出換取更大的收穫或成果', 'reading': 'えびでたいをつる', 'examples': [{'jp_sentence': '彼は海老で鯛を釣る戦略で事業を成功させた', 'jp_reading': 'かれはえびでたいをつるせんりゃくでじぎょうをせいこうさせた', 'chinese_translation': '他用小的代價換取更大的利益，成功地把事業做大了'}, {'jp_sentence': '海老で鯛を釣るという考え方は、經營者們非常喜歡', 'jp_reading': 'えびでたいをつるというかんがた方は、けいえいしゃたちにとてもすき', 'chinese_translation': '用小的東西換取更大的東西的想法，經營者們非常喜歡'}]}\n"
     ]
    }
   ],
   "source": [
    "from groq_help import generate_japanese_addnote, start_groq, generate_japanese_lookup\n",
    "\n",
    "model, client = start_groq()\n",
    "\n",
    "s = generate_japanese_lookup(\"海老で鯛を釣る\", model, client)\n",
    "print(s)\n",
    "word_data = generate_japanese_addnote(s, model, client)\n",
    "print(word_data)"
   ]
  }
 ],
 "metadata": {
  "kernelspec": {
   "display_name": "base",
   "language": "python",
   "name": "python3"
  },
  "language_info": {
   "codemirror_mode": {
    "name": "ipython",
    "version": 3
   },
   "file_extension": ".py",
   "mimetype": "text/x-python",
   "name": "python",
   "nbconvert_exporter": "python",
   "pygments_lexer": "ipython3",
   "version": "3.11.4"
  }
 },
 "nbformat": 4,
 "nbformat_minor": 5
}
