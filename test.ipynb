{
 "cells": [
  {
   "cell_type": "code",
   "execution_count": 3,
   "id": "156ff539",
   "metadata": {},
   "outputs": [
    {
     "name": "stdout",
     "output_type": "stream",
     "text": [
      "日文單字:海老で鯛を釣る\n",
      "解釋：\n",
      "這個短語指的是用小的東西或代價換取更大的利益或收穫，通常用來描述某人用微小的努力或資源就能取得意想不到的成果或好處。\n",
      "拼音:えびでたいをつる\n",
      "例句1️⃣：\n",
      "    日文句子:彼は海老で鯛を釣るようなビジネスマンだ。\n",
      "    日文拼音:かれはえびでたいをつるようなびじねすまんだ。\n",
      "中文翻譯1️⃣：\n",
      "    他是用小投資換取大回報的商人。\n",
      "例句2️⃣：\n",
      "    日文句子:この新しいアプリは海老で鯛を釣るような発明だ。\n",
      "    日文拼音:このあたらしいあぷりはえびでたいをつるようなはつめいだ。\n",
      "中文翻譯2️⃣：\n",
      "    這個新應用程式是用小成本換取大效益的發明。\n"
     ]
    }
   ],
   "source": [
    "from lookup_code.lookup_groq import generate_japanese_lookup\n",
    "from groq_help import start_groq\n",
    "\n",
    "model, client = start_groq()\n",
    "\n",
    "s = generate_japanese_lookup(\"海老で鯛を釣る\", model, client)\n",
    "print(s)\n"
   ]
  }
 ],
 "metadata": {
  "kernelspec": {
   "display_name": "base",
   "language": "python",
   "name": "python3"
  },
  "language_info": {
   "codemirror_mode": {
    "name": "ipython",
    "version": 3
   },
   "file_extension": ".py",
   "mimetype": "text/x-python",
   "name": "python",
   "nbconvert_exporter": "python",
   "pygments_lexer": "ipython3",
   "version": "3.11.4"
  }
 },
 "nbformat": 4,
 "nbformat_minor": 5
}
